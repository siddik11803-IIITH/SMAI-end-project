{
 "cells": [
  {
   "cell_type": "code",
   "execution_count": 23,
   "metadata": {},
   "outputs": [],
   "source": [
    "from sklearn.tree import DecisionTreeClassifier\n",
    "import pandas as pd\n",
    "import numpy as np\n",
    "import matplotlib.pyplot as plt\n",
    "from sklearn.model_selection import train_test_split\n",
    "from sklearn.linear_model import LogisticRegression\n",
    "from sklearn.datasets import load_breast_cancer"
   ]
  },
  {
   "cell_type": "code",
   "execution_count": 24,
   "metadata": {},
   "outputs": [],
   "source": [
    "dataframe = pd.read_csv('./spambase.data', header=None)\n",
    "data = dataframe.values.tolist()\n",
    "data = np.array(np.array((data)))\n",
    "np.random.shuffle(data)"
   ]
  },
  {
   "cell_type": "code",
   "execution_count": 25,
   "metadata": {},
   "outputs": [],
   "source": [
    "# X, y = load_breast_cancer(return_X_y=True)\n",
    "# pd.DataFrame(X)"
   ]
  },
  {
   "cell_type": "code",
   "execution_count": 26,
   "metadata": {},
   "outputs": [],
   "source": [
    "columns = data.shape[1]"
   ]
  },
  {
   "cell_type": "code",
   "execution_count": 27,
   "metadata": {},
   "outputs": [],
   "source": [
    "y = data[:, -1]\n",
    "X = np.delete(data, columns-1, axis = 1)"
   ]
  },
  {
   "cell_type": "code",
   "execution_count": 28,
   "metadata": {},
   "outputs": [],
   "source": [
    "x_train, y_train = X, y\n",
    "x_train = x_train.reshape(x_train.shape+tuple([1]))\n",
    "# x_test = x_test.reshape(x_test.shape+tuple([1]))"
   ]
  },
  {
   "cell_type": "markdown",
   "metadata": {},
   "source": [
    "### Training the classifier"
   ]
  },
  {
   "cell_type": "markdown",
   "metadata": {},
   "source": [
    "### Initialising the weights"
   ]
  },
  {
   "cell_type": "code",
   "execution_count": 29,
   "metadata": {},
   "outputs": [],
   "source": [
    "n_features = x_train.shape[1]"
   ]
  },
  {
   "cell_type": "code",
   "execution_count": 30,
   "metadata": {},
   "outputs": [],
   "source": [
    "weights = np.zeros(y_train.shape)\n",
    "m = len(np.where(y_train == 1)[0])\n",
    "l = len(np.where(y_train == 0)[0])\n",
    "for i in range(len(y_train)):\n",
    "    if(y_train[i] == 1):\n",
    "        weights[i] = 1/(2*m)\n",
    "    else:\n",
    "        weights[i] = 1/(2*l)"
   ]
  },
  {
   "cell_type": "code",
   "execution_count": 31,
   "metadata": {},
   "outputs": [],
   "source": [
    "errors_features = []\n",
    "clf_features = []\n",
    "for features in range(n_features):\n",
    "    train_data = x_train[:, features]\n",
    "    clf = DecisionTreeClassifier(max_depth=1)\n",
    "    clf.fit(train_data, y_train)\n",
    "    errors_features += [((np.abs(clf.predict(train_data)- y_train)))]\n",
    "    clf_features += [clf]\n",
    "errors_features = np.array(errors_features)"
   ]
  },
  {
   "cell_type": "markdown",
   "metadata": {},
   "source": [
    "### Updating the weights"
   ]
  },
  {
   "cell_type": "code",
   "execution_count": 32,
   "metadata": {},
   "outputs": [],
   "source": [
    "selected_idx = []\n",
    "weight_obs = []\n",
    "for _ in range(100):\n",
    "    weights /= sum(weights)\n",
    "    weight_obs += [weights]\n",
    "    round_errors = np.array([sum(i*weights) for i in errors_features])\n",
    "    min_idx = np.argmin(round_errors)\n",
    "    selected_idx += [min_idx]\n",
    "    e_t = round_errors[min_idx]\n",
    "    beta_t = (e_t)/(1-e_t)\n",
    "    min_errors = errors_features[min_idx] # contains 1 or 0.\n",
    "    weights *= (beta_t**(1-min_errors))"
   ]
  },
  {
   "cell_type": "code",
   "execution_count": 33,
   "metadata": {},
   "outputs": [
    {
     "data": {
      "text/plain": [
       "array([ 4,  6,  7, 15, 20, 24, 51, 52, 54, 56])"
      ]
     },
     "execution_count": 33,
     "metadata": {},
     "output_type": "execute_result"
    }
   ],
   "source": [
    "selected_idx = np.array(selected_idx)\n",
    "np.unique(selected_idx)"
   ]
  }
 ],
 "metadata": {
  "kernelspec": {
   "display_name": "Python 3.10.6 64-bit",
   "language": "python",
   "name": "python3"
  },
  "language_info": {
   "codemirror_mode": {
    "name": "ipython",
    "version": 3
   },
   "file_extension": ".py",
   "mimetype": "text/x-python",
   "name": "python",
   "nbconvert_exporter": "python",
   "pygments_lexer": "ipython3",
   "version": "3.10.6"
  },
  "orig_nbformat": 4,
  "vscode": {
   "interpreter": {
    "hash": "aee8b7b246df8f9039afb4144a1f6fd8d2ca17a180786b69acc140d282b71a49"
   }
  }
 },
 "nbformat": 4,
 "nbformat_minor": 2
}
