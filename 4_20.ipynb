{
 "cells": [
  {
   "cell_type": "code",
   "execution_count": null,
   "metadata": {},
   "outputs": [],
   "source": [
    "import pandas as pd\n",
    "import numpy as np\n",
    "import matplotlib.pyplot as plt\n",
    "import pickle\n",
    "\n",
    "from classifier import *\n",
    "import features as fe \n",
    "import utils as ut"
   ]
  },
  {
   "cell_type": "code",
   "execution_count": null,
   "metadata": {},
   "outputs": [],
   "source": [
    "X_train_face_img, X_train_nonface_img, X_test_img, y_train_face, y_train_nonface, y_test = ut.get_test_train_data()"
   ]
  },
  {
   "cell_type": "markdown",
   "metadata": {},
   "source": [
    "### Testing AdaBoost"
   ]
  },
  {
   "cell_type": "code",
   "execution_count": null,
   "metadata": {},
   "outputs": [],
   "source": [
    "X_train_img = np.concatenate((X_train_face_img, X_train_nonface_img))\n",
    "y_train = np.concatenate((y_train_face, y_train_nonface))\n",
    "X_train_ada, y_train_ada = ut.random_subset(X_train_img, y_train, 100)\n",
    "X_test_ada, y_test_ada = ut.random_subset(X_test_img, y_test, 100)"
   ]
  },
  {
   "cell_type": "code",
   "execution_count": null,
   "metadata": {},
   "outputs": [],
   "source": [
    "rect = fe.get_rectanges(19, 19)\n",
    "no_rect = fe.get_no_rectangles(19, 19)\n",
    "X_train_ada_fe = fe.par_feature_extraction_images(X_train_ada, rect, no_rect)\n",
    "X_test_ada_fe = fe.par_feature_extraction_images(X_test_ada, rect, no_rect)"
   ]
  },
  {
   "cell_type": "code",
   "execution_count": null,
   "metadata": {},
   "outputs": [],
   "source": [
    "from classifier import *"
   ]
  },
  {
   "cell_type": "code",
   "execution_count": null,
   "metadata": {
    "scrolled": true
   },
   "outputs": [],
   "source": [
    "a = AdaBoostClassifier()\n",
    "a.fit(X_train_ada_fe, y_train_ada, 2)\n",
    "accuracy = a.score(X_test_ada_fe, y_test_ada)\n",
    "print(accuracy)"
   ]
  },
  {
   "cell_type": "code",
   "execution_count": null,
   "metadata": {},
   "outputs": [],
   "source": [
    "iters = list(range(1, 10))\n",
    "accuracies = []\n",
    "a = AdaBoostClassifier()\n",
    "for iter in iters:\n",
    "    a.fit(X_train_ada_fe, y_train_ada, iter)\n",
    "    accuracy = a.score(X_test_ada_fe, y_test_ada)\n",
    "    accuracies.append(accuracy)\n",
    "\n",
    "plt.xlabel(\"iterations\")\n",
    "plt.ylabel(\"accuraties\")\n",
    "plt.plot(iters, accuracies)\n",
    "plt.show()"
   ]
  },
  {
   "cell_type": "code",
   "execution_count": null,
   "metadata": {},
   "outputs": [],
   "source": [
    "print(accuracies)"
   ]
  },
  {
   "cell_type": "code",
   "execution_count": null,
   "metadata": {},
   "outputs": [],
   "source": []
  }
 ],
 "metadata": {
  "kernelspec": {
   "display_name": "Python 3.10.6 ('ML_torch')",
   "language": "python",
   "name": "python3"
  },
  "language_info": {
   "codemirror_mode": {
    "name": "ipython",
    "version": 3
   },
   "file_extension": ".py",
   "mimetype": "text/x-python",
   "name": "python",
   "nbconvert_exporter": "python",
   "pygments_lexer": "ipython3",
   "version": "3.10.6"
  },
  "vscode": {
   "interpreter": {
    "hash": "a9987e9aa9d23730b4778062df4c7315c56d63e2ffef5655401427630261959a"
   }
  }
 },
 "nbformat": 4,
 "nbformat_minor": 2
}
