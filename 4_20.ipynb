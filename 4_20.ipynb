{
 "cells": [
  {
   "cell_type": "code",
   "execution_count": 104,
   "metadata": {},
   "outputs": [],
   "source": [
    "import pandas as pd\n",
    "import numpy as np\n",
    "import matplotlib.pyplot as plt\n",
    "import pickle\n",
    "\n",
    "from classifier import *\n",
    "import features as fe \n",
    "import utils as ut"
   ]
  },
  {
   "cell_type": "code",
   "execution_count": 105,
   "metadata": {},
   "outputs": [],
   "source": [
    "X_train_face_img, X_train_nonface_img, X_test_img, y_train_face, y_train_nonface, y_test = ut.get_test_train_data()"
   ]
  },
  {
   "cell_type": "markdown",
   "metadata": {},
   "source": [
    "### Testing AdaBoost"
   ]
  },
  {
   "cell_type": "code",
   "execution_count": 106,
   "metadata": {},
   "outputs": [],
   "source": [
    "X_train_img = np.concatenate((X_train_face_img, X_train_nonface_img))\n",
    "y_train = np.concatenate((y_train_face, y_train_nonface))\n",
    "X_train_ada, y_train_ada = ut.random_subset(X_train_img, y_train, 100)\n",
    "X_test_ada, y_test_ada = ut.random_subset(X_test_img, y_test, 100)"
   ]
  },
  {
   "cell_type": "code",
   "execution_count": 107,
   "metadata": {},
   "outputs": [],
   "source": [
    "rect = fe.get_rectanges(19, 19)\n",
    "no_rect = fe.get_no_rectangles(19, 19)\n",
    "X_train_ada_fe = fe.feature_extraction_images(X_train_ada, rect, no_rect)\n",
    "X_test_ada_fe = fe.feature_extraction_images(X_test_ada, rect, no_rect)"
   ]
  },
  {
   "cell_type": "code",
   "execution_count": 108,
   "metadata": {},
   "outputs": [],
   "source": [
    "a = AdaBoostClassifier()\n",
    "a.fit(X_train_ada_fe, y_train_ada, 2)"
   ]
  },
  {
   "cell_type": "code",
   "execution_count": 109,
   "metadata": {},
   "outputs": [
    {
     "data": {
      "image/png": "[encoded data removed]",
      "text/plain": [
       "<Figure size 640x480 with 1 Axes>"
      ]
     },
     "metadata": {},
     "output_type": "display_data"
    }
   ],
   "source": [
    "iters = list(range(1, 10))\n",
    "accuracies = []\n",
    "a = AdaBoostClassifier()\n",
    "for iter in iters:\n",
    "    a.fit(X_train_ada_fe, y_train_ada, iter)\n",
    "    accuracy = a.score(X_test_ada_fe, y_test_ada)\n",
    "    accuracies.append(accuracy)\n",
    "\n",
    "plt.xlabel(\"iterations\")\n",
    "plt.ylabel(\"accuraties\")\n",
    "plt.plot(iters, accuracies)\n",
    "plt.show()"
   ]
  },
  {
   "cell_type": "code",
   "execution_count": 110,
   "metadata": {},
   "outputs": [
    {
     "name": "stdout",
     "output_type": "stream",
     "text": [
      "11.729429299332208\n",
      "0.07216494845360824\n",
      "0.02\n"
     ]
    }
   ],
   "source": [
    "print(a.threshold*0.98)\n",
    "print(a.false_positive_rate(X_test_ada_fe, y_test_ada))\n",
    "print(a.detection_rate(X_test_ada_fe, y_test_ada))"
   ]
  },
  {
   "cell_type": "code",
   "execution_count": 111,
   "metadata": {},
   "outputs": [],
   "source": [
    "# split the training data into 10 folds\n",
    "X_train_folds = np.array_split(X_train_ada_fe, 10)\n",
    "y_train_folds = np.array_split(y_train_ada, 10)\n"
   ]
  },
  {
   "cell_type": "code",
   "execution_count": 112,
   "metadata": {},
   "outputs": [
    {
     "name": "stdout",
     "output_type": "stream",
     "text": [
      "passed the first while loop\n",
      "in the second while loop and the threshold is 1.5375097637078137   0.0   0.4000000000000001   0.54   1\n",
      "in the second while loop and the threshold is 1.5221346660707356   0.25132275132275134   0.26666666666666666   0.54   1\n",
      "in the second while loop and the threshold is 1.5069133194100282   0.16666666666666666   0.3   0.54   1\n",
      "in the second while loop and the threshold is 1.491844186215928   0.037037037037037035   0.16666666666666666   0.54   1\n",
      "in the second while loop and the threshold is 1.4769257443537687   0.037037037037037035   0.19999999999999998   0.54   1\n",
      "in the second while loop and the threshold is 1.462156486910231   0.0   0.3666666666666667   0.54   1\n",
      "in the second while loop and the threshold is 1.4475349220411287   0.047619047619047616   0.43333333333333335   0.54   1\n",
      "in the second while loop and the threshold is 1.4330595728207174   0.07407407407407407   0.16666666666666666   0.54   1\n",
      "in the second while loop and the threshold is 1.4187289770925102   0.08465608465608465   0.2333333333333333   0.54   1\n",
      "in the second while loop and the threshold is 1.404541687321585   0.047619047619047616   0.2333333333333333   0.54   1\n",
      "in the second while loop and the threshold is 1.3904962704483692   0.16666666666666666   0.26666666666666666   0.54   1\n",
      "in the second while loop and the threshold is 1.3765913077438856   0.047619047619047616   0.3333333333333333   0.54   1\n",
      "in the second while loop and the threshold is 1.3628253946664468   0.08465608465608465   0.3333333333333333   0.54   1\n",
      "in the second while loop and the threshold is 1.3491971407197823   0.037037037037037035   0.26666666666666666   0.54   1\n",
      "in the second while loop and the threshold is 1.3357051693125843   0.0   0.5   0.54   1\n",
      "in the second while loop and the threshold is 1.3223481176194585   0.037037037037037035   0.3666666666666667   0.54   1\n",
      "in the second while loop and the threshold is 1.3091246364432638   0.047619047619047616   0.3666666666666667   0.54   1\n",
      "in the second while loop and the threshold is 1.2960333900788312   0.037037037037037035   0.16666666666666666   0.54   1\n",
      "in the second while loop and the threshold is 1.2830730561780428   0.0   0.3   0.54   1\n",
      "in the second while loop and the threshold is 1.2702423256162623   0.07407407407407407   0.26666666666666666   0.54   1\n",
      "in the second while loop and the threshold is 1.2575399023600997   0.037037037037037035   0.3333333333333333   0.54   1\n",
      "in the second while loop and the threshold is 1.2449645033364987   0.0   0.3666666666666667   0.54   1\n",
      "in the second while loop and the threshold is 1.2325148583031336   0.08465608465608465   0.2333333333333333   0.54   1\n",
      "in the second while loop and the threshold is 1.2201897097201022   0.08465608465608465   0.2333333333333333   0.54   1\n",
      "in the second while loop and the threshold is 1.2079878126229011   0.0   0.3333333333333333   0.54   1\n",
      "in the second while loop and the threshold is 1.195907934496672   0.047619047619047616   0.2333333333333333   0.54   1\n",
      "in the second while loop and the threshold is 1.1839488551517054   0.047619047619047616   0.3   0.54   1\n",
      "in the second while loop and the threshold is 1.1721093666001883   0.07407407407407407   0.16666666666666666   0.54   1\n",
      "in the second while loop and the threshold is 1.1603882729341863   0.037037037037037035   0.26666666666666666   0.54   1\n",
      "in the second while loop and the threshold is 1.1487843902048445   0.16666666666666666   0.3   0.54   1\n",
      "in the second while loop and the threshold is 1.137296546302796   0.037037037037037035   0.3666666666666667   0.54   1\n",
      "in the second while loop and the threshold is 1.125923580839768   0.07407407407407407   0.16666666666666666   0.54   1\n",
      "in the second while loop and the threshold is 1.1146643450313705   0.16666666666666666   0.20000000000000004   0.54   1\n",
      "in the second while loop and the threshold is 1.1035177015810567   0.0   0.4666666666666666   0.54   1\n",
      "in the second while loop and the threshold is 1.092482524565246   0.21428571428571427   0.26666666666666666   0.54   1\n",
      "in the second while loop and the threshold is 1.0815576993195937   0.16666666666666666   0.3666666666666667   0.54   1\n",
      "in the second while loop and the threshold is 1.0707421223263978   0.08465608465608465   0.3333333333333333   0.54   1\n",
      "in the second while loop and the threshold is 1.0600347011031337   0.16666666666666666   0.4333333333333333   0.54   1\n",
      "in the second while loop and the threshold is 1.0494343540921023   0.07407407407407407   0.19999999999999998   0.54   1\n",
      "in the second while loop and the threshold is 1.0389400105511812   0.0   0.6   0.54   1\n",
      "0.0\n",
      "the length of the strong classifiers is 1\n"
     ]
    }
   ],
   "source": [
    "f = 0.9\n",
    "d = 0.9\n",
    "F_target = 0.001\n",
    "Threshold_retention = 0.99\n",
    "Strong_Classifiers = []\n",
    "\n",
    "def get_avg_fpr_dtr(a,X_train_folds, y_train_folds,number):\n",
    "    false_positive_rate = 0\n",
    "    detection_rate = 0\n",
    "    for i in range(number):\n",
    "        index = np.random.choice(10,1, replace=False)\n",
    "        X_train = X_train_folds[index[0]]\n",
    "        y_train = y_train_folds[index[0]]\n",
    "        false_positive_rate += a.false_positive_rate(X_train, y_train)\n",
    "        detection_rate += a.detection_rate(X_train, y_train)\n",
    "    return false_positive_rate/3, detection_rate/3\n",
    "\n",
    "\n",
    "def Train_Cascade(f,d,F_target,Threshold_retention):    \n",
    "    F = [0.6]\n",
    "    D = [0.6]\n",
    "    F_new = F[-1]\n",
    "    Strong_Classifiers = []\n",
    "    while F_new > F_target:\n",
    "        a = AdaBoostClassifier()\n",
    "        F_new = F[-1]\n",
    "        no_of_features = 0\n",
    "        while F_new > f*F[-1]:\n",
    "            no_of_features += 1\n",
    "            a.fit(X_train_ada_fe, y_train_ada, no_of_features)         \n",
    "            fpr, dtr = get_avg_fpr_dtr(a,X_train_folds, y_train_folds,3)\n",
    "            F_new = fpr\n",
    "            D_new = dtr\n",
    "            # decrease the threshold for the ith strong classifier in the cascade\n",
    "            print(\"passed the first while loop\")\n",
    "            while(True):            \n",
    "                a.set_threshold(a.threshold*Threshold_retention)\n",
    "                fpr, dtr = get_avg_fpr_dtr(a,X_train_folds, y_train_folds,3)\n",
    "                F_new = fpr\n",
    "                D_new = dtr\n",
    "                print(\"in the second while loop and the threshold is\", a.threshold,\" \", F_new, \" \", D_new,\" \",d*D[-1],\" \",no_of_features)\n",
    "                if D_new > d*D[-1]:          \n",
    "                    break      \n",
    "        print(F_new)          \n",
    "        F.append(F_new)\n",
    "        D.append(D_new)\n",
    "        Strong_Classifiers.append(a)     \n",
    "    return Strong_Classifiers\n",
    "\n",
    "Strong_Classifiers = np.array(Train_Cascade(f,d,F_target,Threshold_retention))\n",
    "print(\"the length of the strong classifiers is\", len(Strong_Classifiers))\n",
    "\n",
    "\n"
   ]
  },
  {
   "cell_type": "code",
   "execution_count": 120,
   "metadata": {},
   "outputs": [
    {
     "name": "stdout",
     "output_type": "stream",
     "text": [
      "(100,)\n",
      "the accuracy of the cascade classifier is 0.68\n"
     ]
    }
   ],
   "source": [
    "def Cascade_Classifier(X_test, Strong_Classifiers):\n",
    "    y_pred = np.zeros(len(X_test))\n",
    "    for i in range(len(Strong_Classifiers)):\n",
    "        y_pred = Strong_Classifiers[i].predict(X_test)\n",
    "        X_test = X_test[y_pred == 1]\n",
    "        if len(X_test) == 0:\n",
    "            break\n",
    "    return y_pred\n",
    "\n",
    "y_pred = Cascade_Classifier(X_test_ada_fe, Strong_Classifiers)\n",
    "print(\"the accuracy of the cascade classifier is\", np.sum(y_pred == y_test_ada)/len(y_test_ada))\n",
    "\n"
   ]
  }
 ],
 "metadata": {
  "kernelspec": {
   "display_name": "Python 3.10.6 64-bit",
   "language": "python",
   "name": "python3"
  },
  "language_info": {
   "codemirror_mode": {
    "name": "ipython",
    "version": 3
   },
   "file_extension": ".py",
   "mimetype": "text/x-python",
   "name": "python",
   "nbconvert_exporter": "python",
   "pygments_lexer": "ipython3",
   "version": "3.10.6"
  },
  "orig_nbformat": 4,
  "vscode": {
   "interpreter": {
    "hash": "369f2c481f4da34e4445cda3fffd2e751bd1c4d706f27375911949ba6bb62e1c"
   }
  }
 },
 "nbformat": 4,
 "nbformat_minor": 2
}
