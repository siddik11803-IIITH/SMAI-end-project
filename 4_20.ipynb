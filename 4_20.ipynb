{
 "cells": [
  {
   "cell_type": "code",
   "execution_count": 147,
   "metadata": {},
   "outputs": [],
   "source": [
    "import pandas as pd\n",
    "import numpy as np\n",
    "import matplotlib.pyplot as plt\n",
    "from classifier import *"
   ]
  },
  {
   "cell_type": "code",
   "execution_count": 148,
   "metadata": {},
   "outputs": [],
   "source": [
    "dataframe = pd.read_csv('./spambase.data', header=None)\n",
    "data = dataframe.values.tolist()\n",
    "data = np.array(np.array((data)))\n",
    "np.random.shuffle(data)\n",
    "columns = data.shape[1]\n",
    "y = data[:, -1]\n",
    "X = np.delete(data, columns-1, axis = 1)\n",
    "x_train, y_train = X, y\n",
    "x_train = x_train.reshape(x_train.shape+tuple([1]))"
   ]
  },
  {
   "cell_type": "markdown",
   "metadata": {},
   "source": [
    "### Training the classifier"
   ]
  },
  {
   "cell_type": "code",
   "execution_count": 149,
   "metadata": {},
   "outputs": [
    {
     "data": {
      "text/plain": [
       "array([51, 52])"
      ]
     },
     "execution_count": 149,
     "metadata": {},
     "output_type": "execute_result"
    }
   ],
   "source": [
    "selected_idx, alphas, classifiers = Adaboost_train(2, x_train, y_train)\n",
    "selected_idx = np.array(selected_idx)\n",
    "np.unique(selected_idx)"
   ]
  }
 ],
 "metadata": {
  "kernelspec": {
   "display_name": "Python 3.10.6 ('ML_torch')",
   "language": "python",
   "name": "python3"
  },
  "language_info": {
   "codemirror_mode": {
    "name": "ipython",
    "version": 3
   },
   "file_extension": ".py",
   "mimetype": "text/x-python",
   "name": "python",
   "nbconvert_exporter": "python",
   "pygments_lexer": "ipython3",
   "version": "3.10.6"
  },
  "orig_nbformat": 4,
  "vscode": {
   "interpreter": {
    "hash": "a9987e9aa9d23730b4778062df4c7315c56d63e2ffef5655401427630261959a"
   }
  }
 },
 "nbformat": 4,
 "nbformat_minor": 2
}
