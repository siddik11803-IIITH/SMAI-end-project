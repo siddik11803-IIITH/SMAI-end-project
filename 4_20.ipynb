{
 "cells": [
  {
   "cell_type": "code",
   "execution_count": 1,
   "metadata": {},
   "outputs": [],
   "source": [
    "import pandas as pd\n",
    "import numpy as np\n",
    "import matplotlib.pyplot as plt\n",
    "import pickle\n",
    "\n",
    "from classifier import *\n",
    "import features as fe \n",
    "import utils as ut"
   ]
  },
  {
   "cell_type": "code",
   "execution_count": 2,
   "metadata": {},
   "outputs": [],
   "source": [
    "X_train_face_img, X_train_nonface_img, X_test_img, y_train_face, y_train_nonface, y_test = ut.get_test_train_data()"
   ]
  },
  {
   "cell_type": "markdown",
   "metadata": {},
   "source": [
    "### Testing AdaBoost"
   ]
  },
  {
   "cell_type": "code",
   "execution_count": 3,
   "metadata": {},
   "outputs": [],
   "source": [
    "X_train_img = np.concatenate((X_train_face_img, X_train_nonface_img))\n",
    "y_train = np.concatenate((y_train_face, y_train_nonface))\n",
    "X_train_ada, y_train_ada = ut.random_subset(X_train_img, y_train, 100)\n",
    "X_test_ada, y_test_ada = ut.random_subset(X_test_img, y_test, 100)"
   ]
  },
  {
   "cell_type": "code",
   "execution_count": 4,
   "metadata": {},
   "outputs": [],
   "source": [
    "rect = fe.get_rectanges(19, 19)\n",
    "no_rect = fe.get_no_rectangles(19, 19)\n",
    "X_train_ada_fe = fe.feature_extraction_images(X_train_ada, rect, no_rect)\n",
    "X_test_ada_fe = fe.feature_extraction_images(X_test_ada, rect, no_rect)"
   ]
  },
  {
   "cell_type": "code",
   "execution_count": 5,
   "metadata": {},
   "outputs": [],
   "source": [
    "a = AdaBoostClassifier()\n",
    "a.fit(X_train_ada_fe, y_train_ada, 2)"
   ]
  },
  {
   "cell_type": "code",
   "execution_count": 6,
   "metadata": {},
   "outputs": [
    {
     "data": {
      "image/png": "[encoded data removed]",
      "text/plain": [
       "<Figure size 640x480 with 1 Axes>"
      ]
     },
     "metadata": {},
     "output_type": "display_data"
    }
   ],
   "source": [
    "iters = list(range(1, 10))\n",
    "accuracies = []\n",
    "a = AdaBoostClassifier()\n",
    "for iter in iters:\n",
    "    a.fit(X_train_ada_fe, y_train_ada, iter)\n",
    "    accuracy = a.score(X_test_ada_fe, y_test_ada)\n",
    "    accuracies.append(accuracy)\n",
    "\n",
    "plt.xlabel(\"iterations\")\n",
    "plt.ylabel(\"accuraties\")\n",
    "plt.plot(iters, accuracies)\n",
    "plt.show()"
   ]
  },
  {
   "cell_type": "code",
   "execution_count": 7,
   "metadata": {},
   "outputs": [
    {
     "name": "stdout",
     "output_type": "stream",
     "text": [
      "12.513921067792554\n",
      "0.04040404040404041\n",
      "0.0\n"
     ]
    }
   ],
   "source": [
    "print(a.threshold*0.98)\n",
    "print(a.false_positive_rate(X_test_ada_fe, y_test_ada))\n",
    "print(a.detection_rate(X_test_ada_fe, y_test_ada))"
   ]
  },
  {
   "cell_type": "code",
   "execution_count": 8,
   "metadata": {},
   "outputs": [],
   "source": [
    "# split the training data into 10 folds\n",
    "X_train_folds = np.array_split(X_train_ada_fe, 10)\n",
    "y_train_folds = np.array_split(y_train_ada, 10)\n"
   ]
  },
  {
   "cell_type": "code",
   "execution_count": null,
   "metadata": {},
   "outputs": [],
   "source": [
    "f = 0.9\n",
    "d = 0.9\n",
    "F_target = 0.001\n",
    "Threshold_retention = 0.99\n",
    "Strong_Classifiers = []\n",
    "\n",
    "def Cascade_Classifier(X_test,y_test, Strong_Classifiers):\n",
    "    y_pred = np.zeros(len(X_test))\n",
    "    no_of_negatives = np.sum(y_test == 0)\n",
    "    total_test_y = len(y_test)\n",
    "    for i in range(len(Strong_Classifiers)):\n",
    "        print(y_pred.shape, X_test.shape,y_test.shape)\n",
    "        y_pred = Strong_Classifiers[i].predict(X_test)\n",
    "        X_test = X_test[y_pred == 1]\n",
    "        y_test = y_test[y_pred == 1]\n",
    "        if len(X_test) == 0:\n",
    "            break\n",
    "    false_positive_rate = np.sum((y_pred == 1) & (y_test == 0))/no_of_negatives\n",
    "    detection_rate = np.sum((y_pred == 1)& (y_test == 1))/total_test_y\n",
    "    return false_positive_rate, detection_rate\n",
    "\n",
    "\n",
    "def get_avg_fpr_dtr(Strong_Classifiers,a,X_train_folds, y_train_folds, no_of_folds,no_of_features):\n",
    "    indices = np.random.choice(10, no_of_folds, replace=False)\n",
    "    X_test = []\n",
    "    y_test = []\n",
    "    for i in indices:\n",
    "        X_test.append(X_train_folds[i])\n",
    "        y_test.append(y_train_folds[i])\n",
    "\n",
    "    X_test = np.concatenate(X_test)\n",
    "    y_test = np.concatenate(y_test)\n",
    "    X_train = np.concatenate([X_train_folds[i] for i in range(10) if i not in indices])\n",
    "    y_train = np.concatenate([y_train_folds[i] for i in range(10) if i not in indices])\n",
    "    print(\"shapes before: \" ,X_train.shape, y_train.shape, X_test.shape, y_test.shape)\n",
    "    \n",
    "    for i in range(len(Strong_Classifiers)):\n",
    "        y_pred = Strong_Classifiers[i].predict(X_train)\n",
    "        X_train = X_train[y_pred == 1]\n",
    "        y_train = y_train[y_pred == 1]\n",
    "        if len(X_train) == 0:\n",
    "            break\n",
    "    # fit a new classifier on the remaining data\n",
    "    print(\"shapes after: \" ,X_train.shape, y_train.shape, X_test.shape, y_test.shape)\n",
    "\n",
    "    a.fit(X_train, y_train, no_of_features)\n",
    "    # add the classifier to the list of strong classifiers\n",
    "    Strong_Classifiers.append(a)    \n",
    "    false_positive_rate, detection_rate = Cascade_Classifier(X_test,y_test, Strong_Classifiers)\n",
    "    flag_for_break = False\n",
    "    if len(X_train) < 10:                            #### Hard coded\n",
    "        flag_for_break = True\n",
    "    return false_positive_rate, detection_rate, X_test, y_test, Strong_Classifiers, flag_for_break\n",
    "\n",
    "\n",
    "\n",
    "\n",
    "def Train_Cascade(f,d,F_target,Threshold_retention):    \n",
    "    F = [0.6]\n",
    "    D = [0.6]\n",
    "    F_new = F[-1]\n",
    "    Strong_Classifiers = []\n",
    "    flag_for_break = False\n",
    "    while F_new > F_target and flag_for_break == False:\n",
    "        a = AdaBoostClassifier()\n",
    "        F_new = F[-1]\n",
    "        no_of_features = 0        \n",
    "        while F_new > f*F[-1] and no_of_features < 1000:          #### Hard coded\n",
    "            no_of_features += 1       \n",
    "            fpr, dtr, X_test_returned,y_test_returned,Strong_Classifiers, flag_for_break = get_avg_fpr_dtr(Strong_Classifiers,a,X_train_folds, y_train_folds, 3,no_of_features)\n",
    "            F_new = fpr\n",
    "            D_new = dtr\n",
    "            print(\"passed the first while loop\")\n",
    "            # decrease the threshold for the ith strong classifier in the cascade\n",
    "            no_innermost_iter = 0\n",
    "            while(no_innermost_iter < 1000):            #### Hard coded\n",
    "                no_innermost_iter += 1\n",
    "                Strong_Classifiers[-1].threshold = Strong_Classifiers[-1].threshold*Threshold_retention\n",
    "                print(\"New threshodld\", Strong_Classifiers[-1].threshold)\n",
    "                a = Strong_Classifiers[-1]\n",
    "                F_new, D_new = Cascade_Classifier(X_test_returned,y_test_returned, Strong_Classifiers)\n",
    "                print(\"in the second while loop and the threshold is\", a.threshold,\" \", F_new, \" \", D_new,\" \",d*D[-1],\" \",no_of_features)\n",
    "                if D_new > d*D[-1]:          \n",
    "                    break      \n",
    "            # remove the last strong classifier from the cascade\n",
    "            Strong_Classifiers.pop()\n",
    "\n",
    "\n",
    "        F.append(F_new)\n",
    "        D.append(D_new)\n",
    "        Strong_Classifiers.append(a)     \n",
    "    return Strong_Classifiers\n",
    "\n",
    "Strong_Classifiers = np.array(Train_Cascade(f,d,F_target,Threshold_retention))\n",
    "print(\"the length of the strong classifiers is\", len(Strong_Classifiers))\n"
   ]
  },
  {
   "cell_type": "code",
   "execution_count": null,
   "metadata": {},
   "outputs": [],
   "source": [
    "def Cascade_Classifier_predict(X_test, y_test, Strong_Classifiers):\n",
    "    y_preds = []\n",
    "    for i in range((len(Strong_Classifiers))):\n",
    "        y_pred = Strong_Classifiers[i].predict(X_test)\n",
    "        y_preds.append(y_pred)\n",
    "\n",
    "    ans = np.zeros(len(y_test)) \n",
    "    for i in range(len(y_test)):\n",
    "        is_one = True\n",
    "        for j in range(len(Strong_Classifiers)):\n",
    "            if(y_preds[j][i] == 0):\n",
    "                is_one = False\n",
    "                break\n",
    "        if(is_one == True):\n",
    "            ans[i] = 1\n",
    "        else:\n",
    "            ans[i] = 0\n",
    "    return ans"
   ]
  },
  {
   "cell_type": "code",
   "execution_count": null,
   "metadata": {},
   "outputs": [],
   "source": [
    "y_pred = Cascade_Classifier_predict(X_test_ada_fe, y_test_ada, Strong_Classifiers)\n",
    "print(\"the accuracy of the cascade classifier is\", np.sum(y_pred == y_test_ada)/len(y_test_ada))"
   ]
  },
  {
   "cell_type": "code",
   "execution_count": null,
   "metadata": {},
   "outputs": [],
   "source": []
  }
 ],
 "metadata": {
  "kernelspec": {
   "display_name": "Python 3.6.8 ('venv': venv)",
   "language": "python",
   "name": "python3"
  },
  "language_info": {
   "codemirror_mode": {
    "name": "ipython",
    "version": 3
   },
   "file_extension": ".py",
   "mimetype": "text/x-python",
   "name": "python",
   "nbconvert_exporter": "python",
   "pygments_lexer": "ipython3",
   "version": "3.6.8"
  },
  "orig_nbformat": 4,
  "vscode": {
   "interpreter": {
    "hash": "8a7d377a1274c570b9298af95c2593971340dd8baaff5322501e4bff77555216"
   }
  }
 },
 "nbformat": 4,
 "nbformat_minor": 2
}
