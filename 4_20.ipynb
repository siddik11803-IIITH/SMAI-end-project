{
 "cells": [
  {
   "cell_type": "code",
   "execution_count": 1,
   "metadata": {},
   "outputs": [],
   "source": [
    "import pandas as pd\n",
    "import numpy as np\n",
    "import matplotlib.pyplot as plt\n",
    "import pickle\n",
    "\n",
    "from classifier import *\n",
    "import features as fe \n",
    "import utils as ut"
   ]
  },
  {
   "cell_type": "markdown",
   "metadata": {},
   "source": [
    "### Testing AdaBoost"
   ]
  },
  {
   "cell_type": "code",
   "execution_count": null,
   "metadata": {},
   "outputs": [],
   "source": [
    "iters = list(range(1, 30))\n",
    "accuracies = []\n",
    "a = AdaBoostClassifier()\n",
    "for iter in iters:\n",
    "    a.fit(X_train, y_train, iter)\n",
    "    accuracy = a.score(X_test, y_test)\n",
    "    accuracies.append(accuracy)\n",
    "\n",
    "plt.xlabel(\"iterations\")\n",
    "plt.ylabel(\"accuraties\")\n",
    "plt.plot(iters, accuracies)\n",
    "plt.show()"
   ]
  }
 ],
 "metadata": {
  "kernelspec": {
   "display_name": "Python 3.10.6 ('ML_torch')",
   "language": "python",
   "name": "python3"
  },
  "language_info": {
   "codemirror_mode": {
    "name": "ipython",
    "version": 3
   },
   "file_extension": ".py",
   "mimetype": "text/x-python",
   "name": "python",
   "nbconvert_exporter": "python",
   "pygments_lexer": "ipython3",
   "version": "3.10.6"
  },
  "orig_nbformat": 4,
  "vscode": {
   "interpreter": {
    "hash": "a9987e9aa9d23730b4778062df4c7315c56d63e2ffef5655401427630261959a"
   }
  }
 },
 "nbformat": 4,
 "nbformat_minor": 2
}
