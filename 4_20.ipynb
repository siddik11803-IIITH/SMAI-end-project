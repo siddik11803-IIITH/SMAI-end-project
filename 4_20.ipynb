{
 "cells": [
  {
   "cell_type": "code",
   "execution_count": 63,
   "metadata": {},
   "outputs": [],
   "source": [
    "import pandas as pd\n",
    "import numpy as np\n",
    "import matplotlib.pyplot as plt\n",
    "import pickle\n",
    "\n",
    "from classifier import *\n",
    "import features as fe \n",
    "import utils as ut"
   ]
  },
  {
   "cell_type": "code",
   "execution_count": 64,
   "metadata": {},
   "outputs": [],
   "source": [
    "X_train_face_img, X_train_nonface_img, X_test_img, y_train_face, y_train_nonface, y_test = ut.get_test_train_data()"
   ]
  },
  {
   "cell_type": "markdown",
   "metadata": {},
   "source": [
    "### Testing AdaBoost"
   ]
  },
  {
   "cell_type": "code",
   "execution_count": 65,
   "metadata": {},
   "outputs": [],
   "source": [
    "X_train_img = np.concatenate((X_train_face_img, X_train_nonface_img))\n",
    "y_train = np.concatenate((y_train_face, y_train_nonface))\n",
    "X_train_ada, y_train_ada = ut.random_subset(X_train_img, y_train, 100)\n",
    "X_test_ada, y_test_ada = ut.random_subset(X_test_img, y_test, 100)"
   ]
  },
  {
   "cell_type": "code",
   "execution_count": 66,
   "metadata": {},
   "outputs": [],
   "source": [
    "rect = fe.get_rectanges(19, 19)\n",
    "no_rect = fe.get_no_rectangles(19, 19)\n",
    "X_train_ada_fe = fe.feature_extraction_images(X_train_ada, rect, no_rect)\n",
    "X_test_ada_fe = fe.feature_extraction_images(X_test_ada, rect, no_rect)"
   ]
  },
  {
   "cell_type": "code",
   "execution_count": 67,
   "metadata": {},
   "outputs": [],
   "source": [
    "a = AdaBoostClassifier()\n",
    "a.fit(X_train_ada_fe, y_train_ada, 2)"
   ]
  },
  {
   "cell_type": "code",
   "execution_count": 68,
   "metadata": {},
   "outputs": [
    {
     "data": {
      "image/png": "[encoded data removed]",
      "text/plain": [
       "<Figure size 640x480 with 1 Axes>"
      ]
     },
     "metadata": {},
     "output_type": "display_data"
    }
   ],
   "source": [
    "iters = list(range(1, 10))\n",
    "accuracies = []\n",
    "a = AdaBoostClassifier()\n",
    "for iter in iters:\n",
    "    a.fit(X_train_ada_fe, y_train_ada, iter)\n",
    "    accuracy = a.score(X_test_ada_fe, y_test_ada)\n",
    "    accuracies.append(accuracy)\n",
    "\n",
    "plt.xlabel(\"iterations\")\n",
    "plt.ylabel(\"accuraties\")\n",
    "plt.plot(iters, accuracies)\n",
    "plt.show()"
   ]
  },
  {
   "cell_type": "code",
   "execution_count": 86,
   "metadata": {},
   "outputs": [
    {
     "name": "stdout",
     "output_type": "stream",
     "text": [
      "1.2e-322\n",
      "0.23469387755102042\n",
      "0.01\n"
     ]
    }
   ],
   "source": [
    "print(a.threshold*0.98)\n",
    "print(a.false_positive_rate(X_test_ada_fe, y_test_ada))\n",
    "print(a.detection_rate(X_test_ada_fe, y_test_ada))"
   ]
  },
  {
   "cell_type": "code",
   "execution_count": 69,
   "metadata": {},
   "outputs": [],
   "source": [
    "# split the training data into 10 folds\n",
    "X_train_folds = np.array_split(X_train_ada_fe, 10)\n",
    "y_train_folds = np.array_split(y_train_ada, 10)\n"
   ]
  },
  {
   "cell_type": "code",
   "execution_count": 101,
   "metadata": {},
   "outputs": [
    {
     "name": "stdout",
     "output_type": "stream",
     "text": [
      "passed the first while loop\n",
      "in the second while loop and the threshold is 1.1813596083663576   0.24722222222222223   0.3333333333333333   0.54   1\n",
      "in the second while loop and the threshold is 1.169546012282694   0.1726190476190476   0.39999999999999997   0.54   1\n",
      "in the second while loop and the threshold is 1.157850552159867   0.10317460317460318   0.26666666666666666   0.54   1\n",
      "in the second while loop and the threshold is 1.1462720466382683   0.13333333333333333   0.5666666666666667   0.54   1\n",
      "0.13333333333333333\n",
      "passed the first while loop\n",
      "in the second while loop and the threshold is 1.1813596083663576   0.05555555555555555   0.39999999999999997   0.51   1\n",
      "in the second while loop and the threshold is 1.169546012282694   0.15079365079365079   0.3   0.51   1\n",
      "in the second while loop and the threshold is 1.157850552159867   0.1619047619047619   0.3666666666666667   0.51   1\n",
      "in the second while loop and the threshold is 1.1462720466382683   0.10317460317460318   0.4666666666666666   0.51   1\n",
      "in the second while loop and the threshold is 1.1348093261718857   0.05555555555555555   0.3333333333333333   0.51   1\n",
      "in the second while loop and the threshold is 1.1234612329101668   0.1726190476190476   0.39999999999999997   0.51   1\n",
      "in the second while loop and the threshold is 1.1122266205810651   0.15079365079365079   0.3333333333333333   0.51   1\n",
      "in the second while loop and the threshold is 1.1011043543752546   0.15873015873015872   0.3666666666666667   0.51   1\n",
      "in the second while loop and the threshold is 1.090093310831502   0.0   0.39999999999999997   0.51   1\n",
      "in the second while loop and the threshold is 1.079192377723187   0.11428571428571428   0.3666666666666667   0.51   1\n",
      "in the second while loop and the threshold is 1.0684004539459553   0.09523809523809523   0.4333333333333333   0.51   1\n",
      "in the second while loop and the threshold is 1.0577164494064957   0.15079365079365079   0.3   0.51   1\n",
      "in the second while loop and the threshold is 1.0471392849124308   0.23928571428571424   0.3333333333333333   0.51   1\n",
      "in the second while loop and the threshold is 1.0366678920633066   0.15873015873015872   0.3666666666666667   0.51   1\n",
      "in the second while loop and the threshold is 1.0263012131426734   0.06666666666666667   0.4666666666666666   0.51   1\n",
      "in the second while loop and the threshold is 1.0160382010112468   0.16984126984126982   0.4000000000000001   0.51   1\n",
      "in the second while loop and the threshold is 1.0058778190011344   0.0   0.5333333333333333   0.51   1\n",
      "0.0\n",
      "the length of the strong classifiers is 2\n"
     ]
    }
   ],
   "source": [
    "f = 0.9\n",
    "d = 0.9\n",
    "F_target = 0.001\n",
    "Threshold_retention = 0.99\n",
    "Strong_Classifiers = []\n",
    "\n",
    "\n",
    "# function for average false positive rate and detection rate for 3 random folds\n",
    "def get_avg_fpr_dtr(a,X_train_folds, y_train_folds,number):\n",
    "    false_positive_rate = 0\n",
    "    detection_rate = 0\n",
    "    for i in range(number):\n",
    "        index = np.random.choice(10,1, replace=False)\n",
    "        X_train = X_train_folds[index[0]]\n",
    "        y_train = y_train_folds[index[0]]\n",
    "        false_positive_rate += a.false_positive_rate(X_train, y_train)\n",
    "        detection_rate += a.detection_rate(X_train, y_train)\n",
    "    return false_positive_rate/3, detection_rate/3\n",
    "F = [0.6]\n",
    "D = [0.6]\n",
    "F_new = F[-1]\n",
    "while F_new > F_target:\n",
    "    a = AdaBoostClassifier()\n",
    "    F_new = F[-1]\n",
    "    no_of_features = 0\n",
    "    while F_new > f*F[-1]:\n",
    "        no_of_features += 1\n",
    "        a.fit(X_train_ada_fe, y_train_ada, no_of_features)         \n",
    "        fpr, dtr = get_avg_fpr_dtr(a,X_train_folds, y_train_folds,3)\n",
    "        F_new = fpr\n",
    "        D_new = dtr\n",
    "        # decrease the threshold for the ith strong classifier in the cascade\n",
    "        print(\"passed the first while loop\")\n",
    "        while(True):            \n",
    "            a.set_threshold(a.threshold*Threshold_retention)\n",
    "            fpr, dtr = get_avg_fpr_dtr(a,X_train_folds, y_train_folds,3)\n",
    "            F_new = fpr\n",
    "            D_new = dtr\n",
    "            print(\"in the second while loop and the threshold is\", a.threshold,\" \", F_new, \" \", D_new,\" \",d*D[-1],\" \",no_of_features)\n",
    "            if D_new > d*D[-1]:          \n",
    "                break      \n",
    "    print(F_new)          \n",
    "    F.append(F_new)\n",
    "    D.append(D_new)\n",
    "    Strong_Classifiers.append(a)     \n",
    "\n",
    "\n",
    "Strong_Classifiers = np.array(Strong_Classifiers)\n",
    "print(\"the length of the strong classifiers is\", len(Strong_Classifiers))\n",
    "\n",
    "\n"
   ]
  },
  {
   "cell_type": "code",
   "execution_count": null,
   "metadata": {},
   "outputs": [],
   "source": [
    "print(np.random.choice(10, 1, replace=False))"
   ]
  }
 ],
 "metadata": {
  "kernelspec": {
   "display_name": "Python 3.10.6 64-bit",
   "language": "python",
   "name": "python3"
  },
  "language_info": {
   "codemirror_mode": {
    "name": "ipython",
    "version": 3
   },
   "file_extension": ".py",
   "mimetype": "text/x-python",
   "name": "python",
   "nbconvert_exporter": "python",
   "pygments_lexer": "ipython3",
   "version": "3.10.6"
  },
  "orig_nbformat": 4,
  "vscode": {
   "interpreter": {
    "hash": "369f2c481f4da34e4445cda3fffd2e751bd1c4d706f27375911949ba6bb62e1c"
   }
  }
 },
 "nbformat": 4,
 "nbformat_minor": 2
}
