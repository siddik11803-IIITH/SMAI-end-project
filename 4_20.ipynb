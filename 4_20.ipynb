{
 "cells": [
  {
   "cell_type": "code",
   "execution_count": 6,
   "metadata": {},
   "outputs": [],
   "source": [
    "import pandas as pd\n",
    "import numpy as np\n",
    "import matplotlib.pyplot as plt\n",
    "import pickle\n",
    "\n",
    "# from classifier import *\n",
    "import features as fe \n",
    "import utils as ut"
   ]
  },
  {
   "cell_type": "code",
   "execution_count": 7,
   "metadata": {},
   "outputs": [],
   "source": [
    "X_train_face_img, X_train_nonface_img, X_test_img, y_train_face, y_train_nonface, y_test = ut.get_test_train_data()"
   ]
  },
  {
   "cell_type": "markdown",
   "metadata": {},
   "source": [
    "### Testing AdaBoost"
   ]
  },
  {
   "cell_type": "code",
   "execution_count": 8,
   "metadata": {},
   "outputs": [],
   "source": [
    "X_train_img = np.concatenate((X_train_face_img, X_train_nonface_img))\n",
    "y_train = np.concatenate((y_train_face, y_train_nonface))\n",
    "X_train_ada, y_train_ada = ut.random_subset(X_train_img, y_train, 200)\n",
    "X_test_ada, y_test_ada = ut.random_subset(X_test_img, y_test, 200)"
   ]
  },
  {
   "cell_type": "code",
   "execution_count": 9,
   "metadata": {},
   "outputs": [
    {
     "name": "stdout",
     "output_type": "stream",
     "text": [
      "number_of cpus =  8\n",
      "number_of cpus =  8\n"
     ]
    }
   ],
   "source": [
    "rect = fe.get_rectanges(19, 19)\n",
    "no_rect = fe.get_no_rectangles(19, 19)\n",
    "X_train_ada_fe = fe.par_feature_extraction_images(X_train_ada, rect, no_rect)\n",
    "X_test_ada_fe = fe.par_feature_extraction_images(X_test_ada, rect, no_rect)"
   ]
  },
  {
   "cell_type": "code",
   "execution_count": 11,
   "metadata": {},
   "outputs": [
    {
     "ename": "TypingError",
     "evalue": "Failed in nopython mode pipeline (step: nopython frontend)\nFailed in nopython mode pipeline (step: nopython frontend)\nCannot resolve setattr: (instance.jitclass.AdaBoostClassifier#7f363d0d37c0<>).selected_features = list(undefined)<iv=None>\n\nFile \"classifier_with_jit.py\", line 11:\n    def __init__(self):\n        self.selected_features = []\n        ^\n\nDuring: typing of set attribute 'selected_features' at /home/narayana/Desktop/smai project/SMAI-end-project/classifier_with_jit.py (11)\n\nFile \"classifier_with_jit.py\", line 11:\n    def __init__(self):\n        self.selected_features = []\n        ^\n\nDuring: resolving callee type: jitclass.AdaBoostClassifier#7f363d0d37c0<>\nDuring: typing of call at <string> (3)\n\nDuring: resolving callee type: jitclass.AdaBoostClassifier#7f363d0d37c0<>\nDuring: typing of call at <string> (3)\n\n\nFile \"<string>\", line 3:\n<source missing, REPL/exec in use?>\n",
     "output_type": "error",
     "traceback": [
      "\u001b[0;31m---------------------------------------------------------------------------\u001b[0m",
      "\u001b[0;31mTypingError\u001b[0m                               Traceback (most recent call last)",
      "Cell \u001b[0;32mIn [11], line 2\u001b[0m\n\u001b[1;32m      1\u001b[0m \u001b[39mfrom\u001b[39;00m \u001b[39mclassifier_with_jit\u001b[39;00m \u001b[39mimport\u001b[39;00m \u001b[39m*\u001b[39m\n\u001b[0;32m----> 2\u001b[0m a \u001b[39m=\u001b[39m AdaBoostClassifier()\n",
      "File \u001b[0;32m~/anaconda3/envs/smai/lib/python3.10/site-packages/numba/experimental/jitclass/base.py:124\u001b[0m, in \u001b[0;36mJitClassType.__call__\u001b[0;34m(cls, *args, **kwargs)\u001b[0m\n\u001b[1;32m    122\u001b[0m bind \u001b[39m=\u001b[39m \u001b[39mcls\u001b[39m\u001b[39m.\u001b[39m_ctor_sig\u001b[39m.\u001b[39mbind(\u001b[39mNone\u001b[39;00m, \u001b[39m*\u001b[39margs, \u001b[39m*\u001b[39m\u001b[39m*\u001b[39mkwargs)\n\u001b[1;32m    123\u001b[0m bind\u001b[39m.\u001b[39mapply_defaults()\n\u001b[0;32m--> 124\u001b[0m \u001b[39mreturn\u001b[39;00m \u001b[39mcls\u001b[39;49m\u001b[39m.\u001b[39;49m_ctor(\u001b[39m*\u001b[39;49mbind\u001b[39m.\u001b[39;49margs[\u001b[39m1\u001b[39;49m:], \u001b[39m*\u001b[39;49m\u001b[39m*\u001b[39;49mbind\u001b[39m.\u001b[39;49mkwargs)\n",
      "File \u001b[0;32m~/anaconda3/envs/smai/lib/python3.10/site-packages/numba/core/dispatcher.py:468\u001b[0m, in \u001b[0;36m_DispatcherBase._compile_for_args\u001b[0;34m(self, *args, **kws)\u001b[0m\n\u001b[1;32m    464\u001b[0m         msg \u001b[39m=\u001b[39m (\u001b[39mf\u001b[39m\u001b[39m\"\u001b[39m\u001b[39m{\u001b[39;00m\u001b[39mstr\u001b[39m(e)\u001b[39m.\u001b[39mrstrip()\u001b[39m}\u001b[39;00m\u001b[39m \u001b[39m\u001b[39m\\n\u001b[39;00m\u001b[39m\\n\u001b[39;00m\u001b[39mThis error may have been caused \u001b[39m\u001b[39m\"\u001b[39m\n\u001b[1;32m    465\u001b[0m                \u001b[39mf\u001b[39m\u001b[39m\"\u001b[39m\u001b[39mby the following argument(s):\u001b[39m\u001b[39m\\n\u001b[39;00m\u001b[39m{\u001b[39;00margs_str\u001b[39m}\u001b[39;00m\u001b[39m\\n\u001b[39;00m\u001b[39m\"\u001b[39m)\n\u001b[1;32m    466\u001b[0m         e\u001b[39m.\u001b[39mpatch_message(msg)\n\u001b[0;32m--> 468\u001b[0m     error_rewrite(e, \u001b[39m'\u001b[39;49m\u001b[39mtyping\u001b[39;49m\u001b[39m'\u001b[39;49m)\n\u001b[1;32m    469\u001b[0m \u001b[39mexcept\u001b[39;00m errors\u001b[39m.\u001b[39mUnsupportedError \u001b[39mas\u001b[39;00m e:\n\u001b[1;32m    470\u001b[0m     \u001b[39m# Something unsupported is present in the user code, add help info\u001b[39;00m\n\u001b[1;32m    471\u001b[0m     error_rewrite(e, \u001b[39m'\u001b[39m\u001b[39munsupported_error\u001b[39m\u001b[39m'\u001b[39m)\n",
      "File \u001b[0;32m~/anaconda3/envs/smai/lib/python3.10/site-packages/numba/core/dispatcher.py:409\u001b[0m, in \u001b[0;36m_DispatcherBase._compile_for_args.<locals>.error_rewrite\u001b[0;34m(e, issue_type)\u001b[0m\n\u001b[1;32m    407\u001b[0m     \u001b[39mraise\u001b[39;00m e\n\u001b[1;32m    408\u001b[0m \u001b[39melse\u001b[39;00m:\n\u001b[0;32m--> 409\u001b[0m     \u001b[39mraise\u001b[39;00m e\u001b[39m.\u001b[39mwith_traceback(\u001b[39mNone\u001b[39;00m)\n",
      "\u001b[0;31mTypingError\u001b[0m: Failed in nopython mode pipeline (step: nopython frontend)\nFailed in nopython mode pipeline (step: nopython frontend)\nCannot resolve setattr: (instance.jitclass.AdaBoostClassifier#7f363d0d37c0<>).selected_features = list(undefined)<iv=None>\n\nFile \"classifier_with_jit.py\", line 11:\n    def __init__(self):\n        self.selected_features = []\n        ^\n\nDuring: typing of set attribute 'selected_features' at /home/narayana/Desktop/smai project/SMAI-end-project/classifier_with_jit.py (11)\n\nFile \"classifier_with_jit.py\", line 11:\n    def __init__(self):\n        self.selected_features = []\n        ^\n\nDuring: resolving callee type: jitclass.AdaBoostClassifier#7f363d0d37c0<>\nDuring: typing of call at <string> (3)\n\nDuring: resolving callee type: jitclass.AdaBoostClassifier#7f363d0d37c0<>\nDuring: typing of call at <string> (3)\n\n\nFile \"<string>\", line 3:\n<source missing, REPL/exec in use?>\n"
     ]
    }
   ],
   "source": [
    "from classifier import *\n",
    "a = AdaBoostClassifier()"
   ]
  },
  {
   "cell_type": "code",
   "execution_count": null,
   "metadata": {
    "scrolled": true
   },
   "outputs": [],
   "source": [
    "# a = AdaBoostClassifier()\n",
    "a.fit(X_train_ada_fe, y_train_ada, 6)\n",
    "accuracy = a.score(X_test_ada_fe, y_test_ada)\n",
    "print(accuracy)"
   ]
  },
  {
   "cell_type": "code",
   "execution_count": null,
   "metadata": {},
   "outputs": [],
   "source": [
    "iters = np.arange(1,10,1)\n",
    "accuracies = []\n",
    "a = AdaBoostClassifier()\n",
    "\n",
    "for iter in iters:\n",
    "    a.fit(X_train_ada_fe, y_train_ada, iter)\n",
    "    accuracy = a.score(X_test_ada_fe, y_test_ada)\n",
    "    accuracies.append(accuracy)\n",
    "    print(iter,flush=True)\n",
    "    \n",
    "plt.xlabel(\"iterations\")\n",
    "plt.ylabel(\"accuraties\")\n",
    "plt.plot(iters, accuracies)\n",
    "plt.show()"
   ]
  },
  {
   "cell_type": "code",
   "execution_count": null,
   "metadata": {},
   "outputs": [],
   "source": [
    "print(accuracies)"
   ]
  },
  {
   "cell_type": "code",
   "execution_count": null,
   "metadata": {},
   "outputs": [],
   "source": []
  }
 ],
 "metadata": {
  "kernelspec": {
   "display_name": "Python 3.10.6 ('smai')",
   "language": "python",
   "name": "python3"
  },
  "language_info": {
   "codemirror_mode": {
    "name": "ipython",
    "version": 3
   },
   "file_extension": ".py",
   "mimetype": "text/x-python",
   "name": "python",
   "nbconvert_exporter": "python",
   "pygments_lexer": "ipython3",
   "version": "3.10.8"
  },
  "vscode": {
   "interpreter": {
    "hash": "14433194b449e3ba7395d670ffe212adaea7254842b417271285e4ea3cc6174a"
   }
  }
 },
 "nbformat": 4,
 "nbformat_minor": 2
}
