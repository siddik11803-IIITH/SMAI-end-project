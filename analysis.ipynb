{
 "cells": [
  {
   "cell_type": "code",
   "execution_count": null,
   "metadata": {},
   "outputs": [],
   "source": [
    "import pandas as pd\n",
    "import numpy as np\n",
    "import matplotlib.pyplot as plt\n",
    "import pickle\n",
    "from PIL import Image\n",
    "from timeit import default_timer as timer\n",
    "\n",
    "from classifier import *\n",
    "from utils import *\n",
    "from cascade import *\n",
    "import features as fe \n",
    "import utils as ut\n",
    "import plotly.express as px"
   ]
  },
  {
   "cell_type": "code",
   "execution_count": null,
   "metadata": {},
   "outputs": [],
   "source": [
    "X, y = Create_data(1000)\n",
    "X_train, X_test, y_train, y_test = Split_Data(X, y)"
   ]
  },
  {
   "cell_type": "markdown",
   "metadata": {},
   "source": [
    "## Feature Analysis\n",
    "We look the following plots\n",
    "- Time taken to convert image into integral immage vs size of the image.\n",
    "- No of feature vectors vs size of the image\n",
    "- Time taken to compute feature vectors vs size of the image. (sequential + parallel)\n",
    "- Time to compute $i^{th}$ fixed vector for a fixed size of image.\n",
    "- Time to compute $i^{th}$ feature vs size of the image."
   ]
  },
  {
   "cell_type": "markdown",
   "metadata": {},
   "source": [
    "### Time taken to convert image into integral image vs size of the image."
   ]
  },
  {
   "cell_type": "code",
   "execution_count": null,
   "metadata": {},
   "outputs": [],
   "source": [
    "image = Image.open(\"Data/faces/face.train/train/face/face00001.pgm\")\n",
    "image = np.array(image)\n",
    "W,H = image.shape\n",
    "print(W,H)\n",
    "time = []\n",
    "img_size = []\n",
    "for i in range(W):\n",
    "    img = image[:i,:i]\n",
    "    s = timer()\n",
    "    fe.caliculate_intergral_image(img)\n",
    "    e = timer()\n",
    "    time.append(1000*(e-s))\n",
    "    img_size.append(i)\n",
    "\n",
    "plt.plot(img_size,time,'o-')\n",
    "plt.xlabel(\"Image size\")\n",
    "plt.ylabel(\"Time taken (ms)\")\n",
    "plt.title(\"Integral Image computation time Vs Image size\")\n",
    "plt.legend()\n",
    "# plt.plot([0,1],[0,1])\n",
    "plt.show()\n"
   ]
  },
  {
   "cell_type": "markdown",
   "metadata": {},
   "source": [
    "### No of feature vectors vs size of the image"
   ]
  },
  {
   "cell_type": "code",
   "execution_count": null,
   "metadata": {},
   "outputs": [],
   "source": [
    "image = Image.open(\"Data/faces/face.train/train/face/face00001.pgm\")\n",
    "image = np.array(image)\n",
    "W,H = image.shape\n",
    "f = []\n",
    "img_size = []\n",
    "for i in range(2,W,1):\n",
    "    img = image[:i,:i]\n",
    "    rect = fe.get_rectanges(i,i)\n",
    "    no_rect = fe.get_no_rectangles(i, i)\n",
    "    nf = fe.feature_extraction_images(np.array([img]),rect,no_rect)\n",
    "    img_size.append(i)\n",
    "    f.append(nf.shape[1])  \n",
    "plt.plot(img_size,f,'o-',)\n",
    "plt.xlabel(\"Image size\")\n",
    "plt.ylabel(\"Number of Features\")\n",
    "plt.title(\"Number of Features Vs Image size\")\n",
    "plt.legend()\n",
    "plt.show()"
   ]
  },
  {
   "cell_type": "markdown",
   "metadata": {},
   "source": [
    "### Time taken to compute feature vectors vs size of the image."
   ]
  },
  {
   "cell_type": "code",
   "execution_count": null,
   "metadata": {},
   "outputs": [],
   "source": [
    "t = []\n",
    "img_size = []\n",
    "for i in range(2,W,1):\n",
    "    img = image[:i,:i]\n",
    "    rect = fe.get_rectanges(i,i)\n",
    "    no_rect = fe.get_no_rectangles(i, i)\n",
    "    s = timer()\n",
    "    nf = fe.feature_extraction_images(np.array([img]),rect,no_rect)\n",
    "    e = timer()\n",
    "    img_size.append(i)\n",
    "    t.append(1000*(e-s))\n",
    "plt.plot(img_size,t,'o-',)\n",
    "plt.xlabel(\"Image size\")\n",
    "plt.ylabel(\"Time taken (ms)\")\n",
    "plt.title(\"Feature extraction time Vs Image size\")\n",
    "plt.show()"
   ]
  },
  {
   "cell_type": "markdown",
   "metadata": {},
   "source": [
    "### Time to compute $i^{th}$ fixed vector for a fixed size of image."
   ]
  },
  {
   "cell_type": "code",
   "execution_count": null,
   "metadata": {},
   "outputs": [],
   "source": [
    "IntImage = fe.caliculate_intergral_image(image)\n",
    "no_features = fe.get_no_rectangles(19, 19)\n",
    "rectangles = fe.get_rectanges(19, 19)\n",
    "times = []\n",
    "for i in range(no_features):\n",
    "    s = timer()\n",
    "    fe.get_nth_feature(IntImage, rectangles, i)\n",
    "    e = timer()\n",
    "    times.append(e - s)\n",
    "\n",
    "# plot the time taken for each feature using plotly\n",
    "fig = px.histogram(x=times, nbins=100)\n",
    "fig.show()"
   ]
  },
  {
   "cell_type": "markdown",
   "metadata": {},
   "source": [
    "### Time to compute $i^{th}$ feature vs size of the image."
   ]
  },
  {
   "cell_type": "code",
   "execution_count": null,
   "metadata": {},
   "outputs": [],
   "source": [
    "times = []\n",
    "for size in range(19):\n",
    "    int_image = fe.caliculate_intergral_image(image[:size,:size])\n",
    "    s = timer()\n",
    "    fe.get_nth_feature(int_image, rectangles, 0)\n",
    "    e = timer()\n",
    "    times.append(e - s)\n",
    "\n",
    "# plot the time taken for each feature using plotly\n",
    "fig = px.histogram(x=times, nbins=100)\n",
    "fig.show()"
   ]
  },
  {
   "cell_type": "markdown",
   "metadata": {},
   "source": [
    "## Adaboost Analysis\n",
    "We investigate the following plots\n",
    "- Accuracy vs number of features used in the adaboost classifier.\n",
    "- Positve Detection rate vs number of features used in the adaboost classifier.\n",
    "- False Positive rate vs number of features used in the adaboost classifier.\n",
    "- False Negative rate vs number of features used in the adaboost classifier\n",
    "- Time taken to classify subwindows vs number of features used in adaboost classifier."
   ]
  },
  {
   "cell_type": "code",
   "execution_count": null,
   "metadata": {},
   "outputs": [],
   "source": [
    "def details_vs_num_features(X_train, y_train, X_test, y_test):\n",
    "    num_features = [1, 2, 3, 4, 5, 6, 7, 8, 9, 10]\n",
    "    accuracy = []\n",
    "    detection_rate = []\n",
    "    false_positive_rate = []\n",
    "    false_negative_rate = []\n",
    "    for i in num_features:\n",
    "        clf = AdaBoostClassifier()\n",
    "        clf.fit(X_train, y_train, i)\n",
    "        accuracy.append(clf.score(X_test, y_test))\n",
    "        detection_rate.append(clf.detection_rate(X_test, y_test))\n",
    "        false_positive_rate.append(clf.false_positive_rate(X_test, y_test))\n",
    "        false_negative_rate.append(clf.false_negative_rate(X_test, y_test))\n",
    "    return num_features, accuracy, detection_rate, false_positive_rate, false_negative_rate\n",
    "\n",
    "num_features, accuracy, detection_rate, false_positive_rate,false_negative_rate = details_vs_num_features(X_train, y_train, X_test, y_test)\n"
   ]
  },
  {
   "cell_type": "markdown",
   "metadata": {},
   "source": [
    "### Accuracy vs number of features used in the adaboost classifier."
   ]
  },
  {
   "cell_type": "code",
   "execution_count": null,
   "metadata": {},
   "outputs": [],
   "source": [
    "fig = px.line(x=num_features, y=accuracy, title='Accuracy vs Number of Features')\n",
    "# change the names of the x-axis and y-axis\n",
    "fig.update_xaxes(title_text='Number of Features')\n",
    "fig.update_yaxes(title_text='Accuracy')\n",
    "# adjust the size of the figure\n",
    "fig.update_layout(\n",
    "    autosize=False,\n",
    "    width=700,\n",
    "    height=500,\n",
    ")\n",
    "fig.show()"
   ]
  },
  {
   "cell_type": "markdown",
   "metadata": {},
   "source": [
    "\n",
    "### Positve Detection rate vs number of features used in the adaboost classifier."
   ]
  },
  {
   "cell_type": "code",
   "execution_count": null,
   "metadata": {},
   "outputs": [],
   "source": [
    "fig = px.line(x=num_features, y=detection_rate, title='Detection Rate vs Number of Features')\n",
    "# change the names of the x-axis and y-axis\n",
    "fig.update_xaxes(title_text='Number of Features')\n",
    "fig.update_yaxes(title_text='Detection Rate')\n",
    "# adjust the size of the figure\n",
    "fig.update_layout(\n",
    "    autosize=False,\n",
    "    width=700,\n",
    "    height=500,\n",
    ")\n",
    "fig.show()"
   ]
  },
  {
   "cell_type": "markdown",
   "metadata": {},
   "source": [
    "### False Positive rate vs number of features used in the adaboost classifier."
   ]
  },
  {
   "cell_type": "code",
   "execution_count": null,
   "metadata": {},
   "outputs": [],
   "source": [
    "fig = px.line(x=num_features, y=false_positive_rate, title='False Positive Rate vs Number of Features')\n",
    "# change the names of the x-axis and y-axis\n",
    "fig.update_xaxes(title_text='Number of Features')\n",
    "fig.update_yaxes(title_text='False Positive Rate')\n",
    "# adjust the size of the figure\n",
    "fig.update_layout(\n",
    "    autosize=False,\n",
    "    width=700,\n",
    "    height=500,\n",
    ")\n",
    "fig.show()\n"
   ]
  },
  {
   "cell_type": "markdown",
   "metadata": {},
   "source": [
    "### False Negative rate vs number of features used in the adaboost classifier"
   ]
  },
  {
   "cell_type": "code",
   "execution_count": null,
   "metadata": {},
   "outputs": [],
   "source": [
    "fig = px.line(x=num_features, y=false_negative_rate, title='False Negative Rate vs Number of Features')\n",
    "# change the names of the x-axis and y-axis\n",
    "fig.update_xaxes(title_text='Number of Features')\n",
    "fig.update_yaxes(title_text='False Negative Rate')\n",
    "# adjust the size of the figure\n",
    "fig.update_layout(\n",
    "    autosize=False,\n",
    "    width=700,\n",
    "    height=500,\n",
    ")\n",
    "fig.show()\n"
   ]
  },
  {
   "cell_type": "markdown",
   "metadata": {},
   "source": [
    "### Time taken to classify subwindows vs number of features used in adaboost classifier."
   ]
  },
  {
   "cell_type": "code",
   "execution_count": null,
   "metadata": {},
   "outputs": [],
   "source": [
    "X_train_fe, X_train, y_train = Create_data_imgs(200)\n",
    "times = []\n",
    "clf = AdaBoostClassifier()\n",
    "for i in range(20):\n",
    "    clf.fit(X_train, y_train, i)\n",
    "    s = timer()\n",
    "    clf.predict(X_train)\n",
    "    e = timer()\n",
    "    times.append(e - s)\n",
    "\n",
    "# plot the time taken for each feature using plotly\n",
    "fig = px.histogram(x=times, nbins=100)\n",
    "fig.show()"
   ]
  },
  {
   "cell_type": "markdown",
   "metadata": {},
   "source": [
    "## Cascade Analysis\n",
    "We investigate the following plots\n",
    "- number of training samples for each layer.\n",
    "- composition of training samples for each layer.\n",
    "- overall best accuraciy results.\n",
    "- Time taken to classify vs no of subwindows to be classified"
   ]
  },
  {
   "cell_type": "code",
   "execution_count": null,
   "metadata": {},
   "outputs": [],
   "source": [
    "Strong_Classifiers,No_of_samples_per_layer,No_of_positive_samples_per_layer,No_of_negative_samples_per_layer = np.array(Train_Cascade(X_train, y_train))\n",
    "print(\"the length of the strong classifiers is\", len(Strong_Classifiers))"
   ]
  },
  {
   "cell_type": "markdown",
   "metadata": {},
   "source": [
    "### number of training samples for each layer."
   ]
  },
  {
   "cell_type": "code",
   "execution_count": null,
   "metadata": {},
   "outputs": [],
   "source": [
    "# print the number of samples per layer vs the number of layers\n",
    "fig = px.line(x=range(len(No_of_samples_per_layer)), y=No_of_samples_per_layer, title='Number of Samples vs Number of Layers')\n",
    "# change the names of the x-axis and y-axis\n",
    "fig.update_xaxes(title_text='Number of Layers')\n",
    "fig.update_yaxes(title_text='Number of Samples')\n",
    "# adjust the size of the figure\n",
    "fig.update_layout(\n",
    "    autosize=False,\n",
    "    width=700,\n",
    "    height=500,\n",
    ")\n",
    "fig.show()"
   ]
  },
  {
   "cell_type": "markdown",
   "metadata": {},
   "source": [
    "### composition of training samples for each layer."
   ]
  },
  {
   "cell_type": "code",
   "execution_count": null,
   "metadata": {},
   "outputs": [],
   "source": [
    "# tabulate the number of positive and negative samples per layer\n",
    "table = pd.DataFrame({'Number of Positive Samples': No_of_positive_samples_per_layer, 'Number of Negative Samples': No_of_negative_samples_per_layer})\n",
    "table\n",
    "\n"
   ]
  },
  {
   "cell_type": "markdown",
   "metadata": {},
   "source": [
    "### Overall best accuracy results"
   ]
  },
  {
   "cell_type": "code",
   "execution_count": null,
   "metadata": {},
   "outputs": [],
   "source": []
  },
  {
   "cell_type": "markdown",
   "metadata": {},
   "source": [
    "### Time taken to classify vs no of subwindows to be classified"
   ]
  },
  {
   "cell_type": "code",
   "execution_count": null,
   "metadata": {},
   "outputs": [],
   "source": [
    "X_train, y_train = Create_data(200)\n",
    "Strong_Classifiers, No_of_samples_per_layer, No_of_positive_samples_per_layer, No_of_negative_samples_per_layer = np.array(Train_Cascade(X_train, y_train))\n",
    "\n",
    "X_test_fe, X_test, y_test = Create_data_imgs(1000)\n",
    "times = [] \n",
    "for i in range(0, 1000, 10):\n",
    "    s = timer()\n",
    "    Cascade_Classifier_predict_Img(X_test[:i], y_test[:i], Strong_Classifiers)\n",
    "    t = timer()\n",
    "    times.append(t-s)\n",
    "\n",
    "# plot the time taken to predict vs the number of images\n",
    "fig = px.line(x=range(0, 1000, 10), y=times, title='Time Taken to Predict vs Number of Images')\n",
    "# change the names of the x-axis and y-axis\n",
    "fig.update_xaxes(title_text='Number of Images')\n",
    "fig.update_yaxes(title_text='Time Taken to Predict')\n",
    "# adjust the size of the figure\n",
    "fig.update_layout(\n",
    "    autosize=False,\n",
    "    width=700,\n",
    "    height=500,\n",
    ")\n",
    "fig.show()"
   ]
  }
 ],
 "metadata": {
  "kernelspec": {
   "display_name": "Python 3.6.8 ('venv': venv)",
   "language": "python",
   "name": "python3"
  },
  "language_info": {
   "codemirror_mode": {
    "name": "ipython",
    "version": 3
   },
   "file_extension": ".py",
   "mimetype": "text/x-python",
   "name": "python",
   "nbconvert_exporter": "python",
   "pygments_lexer": "ipython3",
   "version": "3.6.8"
  },
  "orig_nbformat": 4,
  "vscode": {
   "interpreter": {
    "hash": "8a7d377a1274c570b9298af95c2593971340dd8baaff5322501e4bff77555216"
   }
  }
 },
 "nbformat": 4,
 "nbformat_minor": 2
}
