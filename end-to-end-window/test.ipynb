{
 "cells": [
  {
   "cell_type": "code",
   "execution_count": 55,
   "metadata": {},
   "outputs": [],
   "source": [
    "import cv2\n",
    "import pandas as pd\n",
    "import numpy as np"
   ]
  },
  {
   "cell_type": "code",
   "execution_count": 56,
   "metadata": {},
   "outputs": [],
   "source": [
    "image = cv2.imread('./test.jpg', cv2.IMREAD_GRAYSCALE)\n",
    "image = cv2.resize(image, (100, 100))"
   ]
  },
  {
   "cell_type": "code",
   "execution_count": 57,
   "metadata": {},
   "outputs": [],
   "source": [
    "def generate_window_points(width, height, window_size):\n",
    "    width_1 = width - window_size + 1\n",
    "    height_1 = height - window_size + 1\n",
    "    points = []\n",
    "    if(width_1 < 0 or height_1 < 0):\n",
    "        return None\n",
    "    for i in range(width_1):\n",
    "        for j in range(height_1):\n",
    "            points += [[i, j]]\n",
    "    points = np.array(np.array(points))\n",
    "    return points\n",
    "def generate_window(img,x, y, window_size):\n",
    "    '''\n",
    "    x is the row index\n",
    "    y is the column index\n",
    "    '''\n",
    "    img_new = []\n",
    "    for i in range(x, x+window_size):\n",
    "        row = []\n",
    "        for j in range(y, y+window_size):\n",
    "            row += [img[i][j]]\n",
    "        img_new += [row]\n",
    "    img_new = np.array(np.array(img_new))\n",
    "    return img_new\n",
    "\n",
    "\n",
    "def windows(img, min_wind, ratio):\n",
    "    '''\n",
    "    it is assumed that the image of a grayscale one.\n",
    "    '''\n",
    "    sizes = []\n",
    "    temp = min_wind\n",
    "    while(temp < max(img.shape)):\n",
    "        sizes += [temp]\n",
    "        temp *= ratio\n",
    "    return sizes\n",
    "\n",
    "def gen_and_resize(sizes, windows_list, img, resize_shape):\n",
    "    '''\n",
    "    resize_shape -> tuple\n",
    "    '''\n",
    "    windows = []\n",
    "    total_windows = 0\n",
    "    for i in windows_list:\n",
    "        total_windows += len(i)\n",
    "    done = 0\n",
    "    for i in range(len(sizes)):\n",
    "        size_now = sizes[i]\n",
    "        windows_list_now = windows_list[i]\n",
    "        windows += [cv2.resize(generate_window(img, j[0], j[1], size_now), resize_shape) for j in windows_list_now]\n",
    "        done += len(windows_list_now)\n",
    "        print(f'{(done/total_windows)*100} % done')\n",
    "    return windows\n",
    "def return_all_windows(img, window_size, resize_shape, ratio):\n",
    "    sizes = windows(image, window_size, ratio)\n",
    "    width = image.shape[0]\n",
    "    height = image.shape[1]\n",
    "    windows_list = [generate_window_points(width, height, i) for i in sizes]\n",
    "    windows_new = gen_and_resize(sizes, windows_list, image, resize_shape)\n",
    "    return windows_new\n"
   ]
  },
  {
   "cell_type": "code",
   "execution_count": 58,
   "metadata": {},
   "outputs": [],
   "source": [
    "window_size = 19\n",
    "resize_shape = (19, 19)\n",
    "ratio = 2"
   ]
  },
  {
   "cell_type": "code",
   "execution_count": 59,
   "metadata": {},
   "outputs": [
    {
     "name": "stdout",
     "output_type": "stream",
     "text": [
      "59.40978971549744 % done\n",
      "94.47782293691465 % done\n",
      "100.0 % done\n"
     ]
    }
   ],
   "source": [
    "windows_new = return_all_windows(image, window_size, resize_shape, ratio)"
   ]
  }
 ],
 "metadata": {
  "kernelspec": {
   "display_name": "Python 3.10.6 64-bit",
   "language": "python",
   "name": "python3"
  },
  "language_info": {
   "codemirror_mode": {
    "name": "ipython",
    "version": 3
   },
   "file_extension": ".py",
   "mimetype": "text/x-python",
   "name": "python",
   "nbconvert_exporter": "python",
   "pygments_lexer": "ipython3",
   "version": "3.10.6"
  },
  "orig_nbformat": 4,
  "vscode": {
   "interpreter": {
    "hash": "aee8b7b246df8f9039afb4144a1f6fd8d2ca17a180786b69acc140d282b71a49"
   }
  }
 },
 "nbformat": 4,
 "nbformat_minor": 2
}
